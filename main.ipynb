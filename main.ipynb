{
 "cells": [
  {
   "cell_type": "markdown",
   "metadata": {},
   "source": [
    "# Build all i need until cytoscape\n",
    "\n",
    "## Library Import"
   ]
  },
  {
   "cell_type": "code",
   "execution_count": 3,
   "metadata": {},
   "outputs": [],
   "source": [
    "from load_network import *\n",
    "from load_network_utils import *\n",
    "from utils import extract_neighbourhoods, extract_subgraph\n",
    "\n",
    "from datetime import datetime\n",
    "from pathlib import Path"
   ]
  },
  {
   "cell_type": "markdown",
   "metadata": {},
   "source": [
    "# Path and Parameter definitions"
   ]
  },
  {
   "cell_type": "code",
   "execution_count": 4,
   "metadata": {},
   "outputs": [],
   "source": [
    "base_dir = Path('../')\n",
    "data_dir = base_dir / 'data/startingFiles'\n",
    "output_dir = base_dir / 'outputs'"
   ]
  },
  {
   "cell_type": "code",
   "execution_count": 5,
   "metadata": {},
   "outputs": [],
   "source": [
    "ckn_edge_path = data_dir / 'GCN36_TPM_webapp_defaultEdge.csv'\n",
    "ckn_node_path = data_dir / 'GCN36_TPM_webapp_defaultNode3Transformed.csv'"
   ]
  },
  {
   "cell_type": "markdown",
   "metadata": {},
   "source": [
    "# Load CKN"
   ]
  },
  {
   "cell_type": "code",
   "execution_count": 6,
   "metadata": {},
   "outputs": [
    {
     "name": "stdout",
     "output_type": "stream",
     "text": [
      "           name Arabidopsis_concise  Degree  isTR  meanTPM_innerbark  \\\n",
      "0  LOC111994160           AT4G33450       1     0                0.0   \n",
      "1  LOC111995138           AT3G13790       2     0                0.0   \n",
      "2  LOC111996132           AT1G62280       2     0                0.0   \n",
      "3  LOC111997035                 NaN       1     0                0.0   \n",
      "4  LOC112009799           AT5G15630       6     0                0.0   \n",
      "\n",
      "   meanTPM_phellem  meanTPM_xylem  isTF  AverageShortestPathLength  \\\n",
      "0         6.086617       0.000000     1                   8.333010   \n",
      "1         1.777893       1.180945     0                   8.749354   \n",
      "2         2.755046       0.000000     0                   7.312339   \n",
      "3        10.240540       0.022227     0                   9.188307   \n",
      "4         5.043025       0.039208     0                   6.427649   \n",
      "\n",
      "   BetweennessCentrality  ...  IsSingleNode  NeighborhoodConnectivity  \\\n",
      "0               0.000000  ...             0                      15.0   \n",
      "1               0.000041  ...             0                       4.5   \n",
      "2               0.000003  ...             0                      39.0   \n",
      "3               0.000000  ...             0                      21.0   \n",
      "4               0.007297  ...             0                      29.5   \n",
      "\n",
      "   NumberOfDirectedEdges  NumberOfUndirectedEdges  \\\n",
      "0                      0                        1   \n",
      "1                      0                        2   \n",
      "2                      0                        2   \n",
      "3                      0                        1   \n",
      "4                      0                        6   \n",
      "\n",
      "   PartnerOfMultiEdgedNodePairs  Radiality  selected  SelfLoops    Stress  \\\n",
      "0                             0   0.947245         0          0         0   \n",
      "1                             0   0.944249         0          0    228026   \n",
      "2                             0   0.954587         0          0     87744   \n",
      "3                             0   0.941091         0          0         0   \n",
      "4                             0   0.960952         0          0  75638382   \n",
      "\n",
      "   TopologicalCoefficient  \n",
      "0                0.000000  \n",
      "1                0.583333  \n",
      "2                0.527778  \n",
      "3                0.000000  \n",
      "4                0.197917  \n",
      "\n",
      "[5 rows x 23 columns]\n",
      "\n",
      "Number of nodes: 6310\n",
      "Number of edges: 27512\n"
     ]
    }
   ],
   "source": [
    "ckn = ckn_to_networkx(\n",
    "    edgesPath = ckn_edge_path,\n",
    "    nodePath = ckn_node_path\n",
    ")\n",
    "\n",
    "\n",
    "print(f\"\\nNumber of nodes: {ckn.number_of_nodes()}\\nNumber of edges: {ckn.number_of_edges()}\")"
   ]
  },
  {
   "cell_type": "markdown",
   "metadata": {},
   "source": [
    "## Extract neighbourhoods\n",
    "\n",
    "LOC112039638 - 14 neighbours supostamente\n",
    "LOC111995138 - 2\n",
    "\n"
   ]
  },
  {
   "cell_type": "code",
   "execution_count": 7,
   "metadata": {},
   "outputs": [
    {
     "name": "stdout",
     "output_type": "stream",
     "text": [
      "Node: LOC111984382, Neighbours within 1 hops: 5\n"
     ]
    }
   ],
   "source": [
    "#seed_list = ['LOC112039638','LOC111995138']\n",
    "seed_list = ['LOC111984382']\n",
    "networks, neighbours_dict = extract_neighbourhoods(ckn, seed_list,1)\n",
    "\n",
    "\n",
    "\n"
   ]
  },
  {
   "cell_type": "markdown",
   "metadata": {},
   "source": [
    "# CYTOSCAPE"
   ]
  },
  {
   "cell_type": "code",
   "execution_count": 6,
   "metadata": {},
   "outputs": [
    {
     "name": "stdout",
     "output_type": "stream",
     "text": [
      "You are connected to Cytoscape!\n"
     ]
    },
    {
     "data": {
      "text/plain": [
       "'test: CKN (2024.09.26)'"
      ]
     },
     "execution_count": 6,
     "metadata": {},
     "output_type": "execute_result"
    }
   ],
   "source": [
    "import py4cytoscape as p4c\n",
    "\n",
    "p4c.cytoscape_ping()\n",
    "\n",
    "today = datetime.today().strftime('%Y.%m.%d'); today\n",
    "\n",
    "COLLECTION = f\"test: CKN ({today})\"\n",
    "COLLECTION"
   ]
  },
  {
   "cell_type": "code",
   "execution_count": 7,
   "metadata": {},
   "outputs": [
    {
     "name": "stdout",
     "output_type": "stream",
     "text": [
      "NODES ['LOC112015631', 'LOC112004184', 'LOC112011621', 'LOC111989641', 'LOC112041097', 'LOC112026987', 'LOC112039638', 'LOC111991097', 'LOC112000640', 'LOC111994626', 'LOC112013328', 'LOC112023282', 'LOC112017661', 'LOC112030455', 'LOC112013051'] EDGES [('LOC112015631', 'LOC112039638'), ('LOC112004184', 'LOC112039638'), ('LOC112011621', 'LOC112039638'), ('LOC111989641', 'LOC112039638'), ('LOC112041097', 'LOC112039638'), ('LOC112026987', 'LOC112039638'), ('LOC112039638', 'LOC112041097'), ('LOC112039638', 'LOC112030455'), ('LOC112039638', 'LOC112026987'), ('LOC112039638', 'LOC112023282'), ('LOC112039638', 'LOC112017661'), ('LOC112039638', 'LOC112015631'), ('LOC112039638', 'LOC112013328'), ('LOC112039638', 'LOC112013051'), ('LOC112039638', 'LOC112011621'), ('LOC112039638', 'LOC112004184'), ('LOC112039638', 'LOC112000640'), ('LOC112039638', 'LOC111994626'), ('LOC112039638', 'LOC111991097'), ('LOC112039638', 'LOC111989641'), ('LOC111991097', 'LOC112039638'), ('LOC112000640', 'LOC112039638'), ('LOC111994626', 'LOC112039638'), ('LOC112013328', 'LOC112039638'), ('LOC112023282', 'LOC112039638'), ('LOC112017661', 'LOC112039638'), ('LOC112030455', 'LOC112039638'), ('LOC112013051', 'LOC112039638')]\n",
      "{'LOC112039638': {'LOC112015631', 'LOC112011621', 'LOC112004184', 'LOC111989641', 'LOC112041097', 'LOC112026987', 'LOC111991097', 'LOC112000640', 'LOC111994626', 'LOC112013328', 'LOC112023282', 'LOC112030455', 'LOC112017661', 'LOC112013051'}, 'LOC111995138': {'LOC112017778', 'LOC111984382'}}\n",
      "LOC112039638\n"
     ]
    },
    {
     "name": "stdout",
     "output_type": "stream",
     "text": [
      "Applying default style...\n",
      "Applying preferred layout\n",
      "Applied CKN-default to 1054\n",
      "LOC112039638 1054\n",
      "NODES ['LOC111995138', 'LOC112017778', 'LOC111984382'] EDGES [('LOC111995138', 'LOC111984382'), ('LOC111995138', 'LOC112017778'), ('LOC112017778', 'LOC111995138'), ('LOC111984382', 'LOC111995138')]\n",
      "{'LOC112039638': {'LOC112015631', 'LOC112011621', 'LOC112004184', 'LOC111989641', 'LOC112041097', 'LOC112026987', 'LOC111991097', 'LOC112000640', 'LOC111994626', 'LOC112013328', 'LOC112023282', 'LOC112030455', 'LOC112017661', 'LOC112013051'}, 'LOC111995138': {'LOC112017778', 'LOC111984382'}}\n",
      "LOC111995138\n",
      "Applying default style...\n",
      "Applying preferred layout\n",
      "Applied CKN-default to 1320\n",
      "LOC111995138 1320\n"
     ]
    }
   ],
   "source": [
    "import cytoscape_utils\n",
    "suids = {}\n",
    "for n in seed_list:    \n",
    "    if n in ckn.nodes():\n",
    "        g = networks[n]\n",
    "        print('NODES',g.nodes(), 'EDGES', g.edges())\n",
    "        print(neighbours_dict)\n",
    "        print(n)\n",
    "\n",
    "        #remove double connections\n",
    "        cytoscape_utils.filter_edges_for_display(g)\n",
    "        suid = p4c.networks.create_network_from_networkx(\n",
    "                g, \n",
    "                title=f\"{n} - neighbours\", \n",
    "                collection=COLLECTION\n",
    "        )\n",
    "        cytoscape_utils.apply_builtin_style(suid, 'ckn')\n",
    "        p4c.layout_network(\"cose\", network=suid)\n",
    "        print(n, suid)\n",
    "\n",
    "\n",
    "        cytoscape_utils.highlight_nodes(\n",
    "            [n],\n",
    "            colour='#f09d62',\n",
    "            label_color=cytoscape_utils.contrast_colour('#f09d62'),\n",
    "            border_color=\"#e3530b\",\n",
    "            border_width=3,\n",
    "            node_height=60,\n",
    "            node_width=60,\n",
    "            network=suid    \n",
    "        )\n",
    "        cytoscape_utils.highlight_nodes(\n",
    "            neighbours_dict[n],\n",
    "            colour='#c7bba9',\n",
    "            label_color=cytoscape_utils.contrast_colour('#c7bba9'),\n",
    "            node_height=45,\n",
    "            node_width=45,\n",
    "            network=suid    \n",
    "        )\n",
    "        \n",
    "        cytoscape_utils.highlight_edges(\n",
    "            g.edges(),\n",
    "            colour='#6d468f'\n",
    "        )\n",
    "        \n",
    "        '''cytoscape_utils.highlight_path(\n",
    "            sources, \n",
    "            colour='#637113',\n",
    "            skip_nodes=None,\n",
    "            skip_edges=None,\n",
    "            label_color=\"white\",\n",
    "            border_color=\"black\",\n",
    "            border_width=10,\n",
    "            edge_line_width=10,\n",
    "            network=suid)'''"
   ]
  },
  {
   "cell_type": "code",
   "execution_count": 16,
   "metadata": {},
   "outputs": [],
   "source": []
  }
 ],
 "metadata": {
  "kernelspec": {
   "display_name": ".venv",
   "language": "python",
   "name": "python3"
  },
  "language_info": {
   "codemirror_mode": {
    "name": "ipython",
    "version": 3
   },
   "file_extension": ".py",
   "mimetype": "text/x-python",
   "name": "python",
   "nbconvert_exporter": "python",
   "pygments_lexer": "ipython3",
   "version": "3.12.6"
  }
 },
 "nbformat": 4,
 "nbformat_minor": 2
}
